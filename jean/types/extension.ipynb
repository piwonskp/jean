{
 "cells": [
  {
   "cell_type": "code",
   "execution_count": 2,
   "metadata": {},
   "outputs": [
    {
     "name": "stderr",
     "output_type": "stream",
     "text": [
      "/opt/conda/lib/python3.7/site-packages/pandas/core/frame.py:3391: SettingWithCopyWarning: \n",
      "A value is trying to be set on a copy of a slice from a DataFrame.\n",
      "Try using .loc[row_indexer,col_indexer] = value instead\n",
      "\n",
      "See the caveats in the documentation: http://pandas.pydata.org/pandas-docs/stable/indexing.html#indexing-view-versus-copy\n",
      "  self[k1] = value[k2]\n"
     ]
    }
   ],
   "source": [
    "import matplotlib.pyplot as plt\n",
    "import numpy as np\n",
    "import pandas as pd\n",
    "import seaborn as sns\n",
    "from sklearn.model_selection import train_test_split\n",
    "from sklearn.metrics import classification_report\n",
    "from sklearn.svm import LinearSVC\n",
    "from sklearn.neighbors import KNeighborsClassifier\n",
    "\n",
    "from ipynb.fs.full.jean.types import extension, nominal"
   ]
  },
  {
   "cell_type": "code",
   "execution_count": 3,
   "metadata": {},
   "outputs": [
    {
     "data": {
      "text/plain": [
       "Index(['Data złożenia', 'Data zamknięcia', 'Tryb studiów', 'Typ studiów',\n",
       "       'Język wykładowy', 'Kierunek', 'Status',\n",
       "       'Słowo regulamin w uzasadnieniu', 'Słowo formaln w uzasadnieniu',\n",
       "       'Słowo postęp w uzasadnieniu', 'Złożone odwołanie',\n",
       "       'Liczba zmian statusu', 'Semestr aktualny', 'Semestr studiow',\n",
       "       'Brakujace ECTS', 'ECTS uznane w bieżącym semstrze',\n",
       "       'Suma zdobytych ECTS', 'Niezaliczone z sem 1', 'Niezaliczone z sem 2',\n",
       "       'Niezaliczone z sem 3', 'Niezaliczone z sem 4', 'Niezaliczone z sem 5',\n",
       "       'Niezaliczone z sem 6', 'Liczba brakujacych przedmiotow',\n",
       "       'Brakujace przedmioty', 'Opłata za niezaliczone przedmioty',\n",
       "       'Liczba prac dyplomowych', 'Informacje o pracach dyplomowych',\n",
       "       'Stopień zaawansowania pracy', 'Słowo rodzin lub famil w uzasadnieniu',\n",
       "       'Słowo zdrow lub health w uzasadnieniu',\n",
       "       'Słowo bardzo proszę w uzasadnieniu', 'Słowo losow w uzasadnieniu',\n",
       "       'Słowo prac lub work w uzasadnieniu',\n",
       "       'Słowo obiecuję lub promise w uzasadnieniu',\n",
       "       'Słowo zobowiązuję w uzasadnieniu', 'month'],\n",
       "      dtype='object')"
      ]
     },
     "execution_count": 3,
     "metadata": {},
     "output_type": "execute_result"
    }
   ],
   "source": [
    "extension.columns"
   ]
  },
  {
   "cell_type": "code",
   "execution_count": 4,
   "metadata": {},
   "outputs": [
    {
     "data": {
      "text/plain": [
       "array(['Model 2,I,D,PL,7 - Automatyka.',\n",
       "       'Model 2,M,D,PL,3 - Elektronika Przemysłowa',\n",
       "       'Model 2,I,D,PL,7 - Sieci i Systemy Elektroenergetyczne',\n",
       "       'Model 2,I,D,PL,7 - Technika Wysokich Napięć i Kompatybilność Elektromagnetyczna',\n",
       "       'Model 2,I,D,PL,7 - Elektronika Przemysłowa',\n",
       "       'Model 2,I,D,PL,7 - Inżynieria  Oprogramowania',\n",
       "       'Model 2,I,D,PL,7 - Elektromechatronika Pojazdów i Maszyny Elektryczne',\n",
       "       'Model 2,I,D,PL,7 - Technika Świetlna i Multimedialna',\n",
       "       'Model 2,M,D,PL,3 - Automatyka i robotyka',\n",
       "       'Model 2,M,D,EN,3 - Electrical Engineering',\n",
       "       'Model 2,M,D,PL,3 - Automatyka.',\n",
       "       'Model 2,I,D,PL,7 - Aparaty Elektroenergetyczne',\n",
       "       'Model 2,M,D,PL,3 - Inżynieria  komputerowa',\n",
       "       'Model 2,M,D,PL,3 - Wytwarzanie i użytkowanie energii elektrycznej',\n",
       "       'Model 2,I,D,PL,7 - Automatyka i robotyka',\n",
       "       'Model 2,I,D,PL,7 - Systemy wbudowane',\n",
       "       'Model 2,M,D,PL,3 - Elektromechatronika Pojazdów i Maszyny Elektryczne',\n",
       "       'Model 2,M,D,PL,3 - Informatyka  w Inżynierii Biomedycznej',\n",
       "       'Model 2,I,D,PL,7 - Automatyka Elektroenergetyczna',\n",
       "       'Model 2,I,D,PL,7 - Wytwarzanie i użytkowanie energii elektrycznej',\n",
       "       'Model 2,M,Z,PL,4 - Elektrotechnika Stosowana',\n",
       "       'Model 2,M,D,PL,3 - Automatyka Elektroenergetyczna i Aparaty',\n",
       "       'Model 2,M,D,PL,3 - Inżynieria  Oprogramowania',\n",
       "       'Model 2,M,Z,PL,4 - Automatyka Przemysłowa',\n",
       "       'Model 2,M,Z,PL,4 - Automatyka Elektroenergetyczna i Aparaty',\n",
       "       'Model 2,M,Z,PL,4 - Wytwarzanie i Użytkowanie Energii Elektrycznej',\n",
       "       'Model 2,M,D,PL,3 - Technika Wysokich Napięć i Kompatybilność Elektromagnetyczna',\n",
       "       'Model 2,I,Z,PL,8 - Automatyka Przemysłowa',\n",
       "       'Model 2,M,Z,PL,4 - Sieci i Systemy Elektroenergetyczne',\n",
       "       'Model 2,M,D,PL,3 - Sieci i Systemy Elektroenergetyczne',\n",
       "       'Model 2,M,Z,PL,4 - Elektromechatronika Pojazdów i Maszyny Elektryczne',\n",
       "       'Model 2,I,D,EN,8 - Electrical Engineering',\n",
       "       'Model 2,M,Z,PL,4 - Technika Wysokich Napięć i Kompatybilność Elektromagnetyczna',\n",
       "       'Model 2,I,Z,PL,8 - Elektroenergetyka',\n",
       "       'Model 2,M,D,PL,3 - Technika  Świetlna i Multimedialna',\n",
       "       'Model 2,M,Z,PL,4 - Elektroenergetyka',\n",
       "       'Model 2,I,Z,PL,8 - Elektromechatronika Pojazdów i Maszyny Elektryczne',\n",
       "       'Model 2,M,Z,PL,4 - Technika Świetlna i Multimedialna',\n",
       "       'Model 2,I,Z,PL,8 - Elektrotechnika Stosowana',\n",
       "       'Model 2,I,D,PL,7 - Automatyka i inżynieria komputerowa'],\n",
       "      dtype=object)"
      ]
     },
     "execution_count": 4,
     "metadata": {},
     "output_type": "execute_result"
    }
   ],
   "source": [
    "extension['Kierunek'].unique()"
   ]
  },
  {
   "cell_type": "code",
   "execution_count": 5,
   "metadata": {},
   "outputs": [
    {
     "data": {
      "image/png": "[encoded data removed]",
      "text/plain": [
       "<Figure size 432x288 with 1 Axes>"
      ]
     },
     "metadata": {
      "needs_background": "light"
     },
     "output_type": "display_data"
    }
   ],
   "source": [
    "_ = sns.countplot(extension['Status'])"
   ]
  },
  {
   "cell_type": "code",
   "execution_count": 6,
   "metadata": {},
   "outputs": [
    {
     "data": {
      "text/plain": [
       "0.8532110091743119"
      ]
     },
     "execution_count": 6,
     "metadata": {},
     "output_type": "execute_result"
    }
   ],
   "source": [
    "base_precision = len(extension[extension['Status'] == 1].index) / len(extension.index)\n",
    "base_precision"
   ]
  },
  {
   "cell_type": "code",
   "execution_count": 7,
   "metadata": {},
   "outputs": [
    {
     "data": {
      "image/png": "[encoded data removed]",
      "text/plain": [
       "<Figure size 432x288 with 1 Axes>"
      ]
     },
     "metadata": {
      "needs_background": "light"
     },
     "output_type": "display_data"
    }
   ],
   "source": [
    "_ = sns.countplot(y=extension['Stopień zaawansowania pracy'])"
   ]
  },
  {
   "cell_type": "code",
   "execution_count": 8,
   "metadata": {},
   "outputs": [
    {
     "data": {
      "text/html": [
       "<div>\n",
       "<style scoped>\n",
       "    .dataframe tbody tr th:only-of-type {\n",
       "        vertical-align: middle;\n",
       "    }\n",
       "\n",
       "    .dataframe tbody tr th {\n",
       "        vertical-align: top;\n",
       "    }\n",
       "\n",
       "    .dataframe thead th {\n",
       "        text-align: right;\n",
       "    }\n",
       "</style>\n",
       "<table border=\"1\" class=\"dataframe\">\n",
       "  <thead>\n",
       "    <tr style=\"text-align: right;\">\n",
       "      <th></th>\n",
       "      <th>Liczba prac dyplomowych</th>\n",
       "      <th>Informacje o pracach dyplomowych</th>\n",
       "      <th>Stopień zaawansowania pracy</th>\n",
       "    </tr>\n",
       "  </thead>\n",
       "  <tbody>\n",
       "    <tr>\n",
       "      <th>234</th>\n",
       "      <td>1</td>\n",
       "      <td>[mgr inż. Monika Jakubowska,ZNE,Automatyka]</td>\n",
       "      <td>80%</td>\n",
       "    </tr>\n",
       "    <tr>\n",
       "      <th>373</th>\n",
       "      <td>2</td>\n",
       "      <td>[dr inż. Marcin Kołodziej,ZSIP,Elektronika Prz...</td>\n",
       "      <td>70%</td>\n",
       "    </tr>\n",
       "    <tr>\n",
       "      <th>381</th>\n",
       "      <td>2</td>\n",
       "      <td>[mgr inż. Monika Jakubowska,ZNE,Automatyka],[m...</td>\n",
       "      <td>50%</td>\n",
       "    </tr>\n",
       "    <tr>\n",
       "      <th>559</th>\n",
       "      <td>1</td>\n",
       "      <td>[dr hab. inż. Dariusz Baczyński,ZSIS,Sieci i S...</td>\n",
       "      <td>40%</td>\n",
       "    </tr>\n",
       "    <tr>\n",
       "      <th>679</th>\n",
       "      <td>1</td>\n",
       "      <td>[mgr inż. Maciej Ciuba,ZWNiKE,Technika Wysokic...</td>\n",
       "      <td>80%</td>\n",
       "    </tr>\n",
       "  </tbody>\n",
       "</table>\n",
       "</div>"
      ],
      "text/plain": [
       "     Liczba prac dyplomowych  \\\n",
       "234                        1   \n",
       "373                        2   \n",
       "381                        2   \n",
       "559                        1   \n",
       "679                        1   \n",
       "\n",
       "                      Informacje o pracach dyplomowych  \\\n",
       "234        [mgr inż. Monika Jakubowska,ZNE,Automatyka]   \n",
       "373  [dr inż. Marcin Kołodziej,ZSIP,Elektronika Prz...   \n",
       "381  [mgr inż. Monika Jakubowska,ZNE,Automatyka],[m...   \n",
       "559  [dr hab. inż. Dariusz Baczyński,ZSIS,Sieci i S...   \n",
       "679  [mgr inż. Maciej Ciuba,ZWNiKE,Technika Wysokic...   \n",
       "\n",
       "    Stopień zaawansowania pracy  \n",
       "234                         80%  \n",
       "373                         70%  \n",
       "381                         50%  \n",
       "559                         40%  \n",
       "679                         80%  "
      ]
     },
     "execution_count": 8,
     "metadata": {},
     "output_type": "execute_result"
    }
   ],
   "source": [
    "extension[['Liczba prac dyplomowych', 'Informacje o pracach dyplomowych', 'Stopień zaawansowania pracy']].head()"
   ]
  },
  {
   "cell_type": "code",
   "execution_count": 9,
   "metadata": {},
   "outputs": [
    {
     "name": "stdout",
     "output_type": "stream",
     "text": [
      "3813    [dr inż. Krzysztof Bieńkowski,ZME,Automatyka],[prof. nzw. dr hab. inż. Dominik Sierociuk,ZS,Automatyka]               \n",
      "3814    [mgr inż. Krzysztof Jackiewicz,ZME,Elektronika Przemysłowa],[dr inż. Krzysztof Bieńkowski,ZNE,Elektronika Przemysłowa]\n",
      "4576    [dr hab. inż. Piotr Biczel,ZWNiKE,Elektromechatronika Pojazdów i Maszyny Elektryczne]                                 \n",
      "Name: Informacje o pracach dyplomowych, dtype: object\n"
     ]
    }
   ],
   "source": [
    "pd.set_option('display.max_colwidth', -1)\n",
    "print(extension[extension['Stopień zaawansowania pracy'].isnull()]['Informacje o pracach dyplomowych'])\n",
    "pd.reset_option('display.max_colwidth')"
   ]
  },
  {
   "cell_type": "code",
   "execution_count": 10,
   "metadata": {},
   "outputs": [],
   "source": [
    "import re\n",
    "from statistics import mean\n",
    "\n",
    "progress = {\n",
    "    'ponad 60% pracy napisanej. Programy wykonane w ponad 90%': 0.75,\n",
    "    'ca 60%': 0.6,\n",
    "    '101%': np.nan,\n",
    "    np.nan: np.nan\n",
    "}\n",
    "\n",
    "def parse_percent(s):\n",
    "    r = re.match('^((\\d\\d)%?-(\\d\\d)%)|((\\d\\d)(\\s*)%)$', s)\n",
    "    percent = int(r[5]) if r[5] != None else mean([int(r[2]), int(r[3])])\n",
    "    return percent / 100\n",
    "parse_progress = lambda x: progress.get(x) if progress.get(x) else parse_percent(x)\n",
    "\n",
    "extension['Stopień zaawansowania pracy'] = extension['Stopień zaawansowania pracy'].apply(parse_progress)"
   ]
  },
  {
   "cell_type": "code",
   "execution_count": 11,
   "metadata": {},
   "outputs": [],
   "source": [
    "extension = extension.dropna(subset=['Stopień zaawansowania pracy'])"
   ]
  },
  {
   "cell_type": "code",
   "execution_count": 12,
   "metadata": {},
   "outputs": [
    {
     "data": {
      "image/png": "[encoded data removed]",
      "text/plain": [
       "<Figure size 432x288 with 1 Axes>"
      ]
     },
     "metadata": {
      "needs_background": "light"
     },
     "output_type": "display_data"
    }
   ],
   "source": [
    "_ = sns.boxplot(extension['Status'], extension['Stopień zaawansowania pracy'])"
   ]
  },
  {
   "cell_type": "code",
   "execution_count": 13,
   "metadata": {},
   "outputs": [
    {
     "data": {
      "image/png": "[encoded data removed]",
      "text/plain": [
       "<Figure size 432x288 with 1 Axes>"
      ]
     },
     "metadata": {
      "needs_background": "light"
     },
     "output_type": "display_data"
    }
   ],
   "source": [
    "_ = sns.boxplot(extension['Status'], extension['Liczba brakujacych przedmiotow'])"
   ]
  },
  {
   "cell_type": "code",
   "execution_count": 14,
   "metadata": {},
   "outputs": [
    {
     "name": "stderr",
     "output_type": "stream",
     "text": [
      "/opt/conda/lib/python3.7/site-packages/seaborn/axisgrid.py:715: UserWarning: Using the countplot function without specifying `order` is likely to produce an incorrect plot.\n",
      "  warnings.warn(warning)\n"
     ]
    },
    {
     "data": {
      "image/png": "[encoded data removed]",
      "text/plain": [
       "<Figure size 216x216 with 1 Axes>"
      ]
     },
     "metadata": {
      "needs_background": "light"
     },
     "output_type": "display_data"
    }
   ],
   "source": [
    "grid = sns.FacetGrid(extension, hue=\"Status\")\n",
    "_ = grid.map(sns.countplot, \"Liczba brakujacych przedmiotow\", alpha=0.5)"
   ]
  },
  {
   "cell_type": "code",
   "execution_count": 15,
   "metadata": {},
   "outputs": [
    {
     "data": {
      "image/png": "[encoded data removed]",
      "text/plain": [
       "<Figure size 216x216 with 1 Axes>"
      ]
     },
     "metadata": {
      "needs_background": "light"
     },
     "output_type": "display_data"
    }
   ],
   "source": [
    "grid = sns.FacetGrid(extension, hue=\"Status\")\n",
    "_ = grid.map(plt.hist, \"Suma zdobytych ECTS\", alpha=0.5)"
   ]
  },
  {
   "cell_type": "code",
   "execution_count": 16,
   "metadata": {},
   "outputs": [
    {
     "data": {
      "image/png": "[encoded data removed]",
      "text/plain": [
       "<Figure size 216x216 with 1 Axes>"
      ]
     },
     "metadata": {
      "needs_background": "light"
     },
     "output_type": "display_data"
    }
   ],
   "source": [
    "grid = sns.FacetGrid(extension, hue=\"Status\")\n",
    "_ = grid.map(plt.hist, \"Brakujace ECTS\", alpha=0.5)"
   ]
  },
  {
   "cell_type": "code",
   "execution_count": 17,
   "metadata": {},
   "outputs": [
    {
     "name": "stderr",
     "output_type": "stream",
     "text": [
      "/opt/conda/lib/python3.7/site-packages/seaborn/axisgrid.py:715: UserWarning: Using the countplot function without specifying `order` is likely to produce an incorrect plot.\n",
      "  warnings.warn(warning)\n"
     ]
    },
    {
     "data": {
      "image/png": "[encoded data removed]",
      "text/plain": [
       "<Figure size 216x216 with 1 Axes>"
      ]
     },
     "metadata": {
      "needs_background": "light"
     },
     "output_type": "display_data"
    }
   ],
   "source": [
    "grid = sns.FacetGrid(extension, hue=\"Status\")\n",
    "_ = grid.map(sns.countplot, \"month\", alpha=0.5)"
   ]
  },
  {
   "cell_type": "code",
   "execution_count": 18,
   "metadata": {},
   "outputs": [
    {
     "name": "stderr",
     "output_type": "stream",
     "text": [
      "/opt/conda/lib/python3.7/site-packages/ipykernel_launcher.py:4: UserWarning: Boolean Series key will be reindexed to match DataFrame index.\n",
      "  after removing the cwd from sys.path.\n",
      "/opt/conda/lib/python3.7/site-packages/ipykernel_launcher.py:4: UserWarning: Boolean Series key will be reindexed to match DataFrame index.\n",
      "  after removing the cwd from sys.path.\n",
      "/opt/conda/lib/python3.7/site-packages/ipykernel_launcher.py:4: UserWarning: Boolean Series key will be reindexed to match DataFrame index.\n",
      "  after removing the cwd from sys.path.\n",
      "/opt/conda/lib/python3.7/site-packages/ipykernel_launcher.py:4: UserWarning: Boolean Series key will be reindexed to match DataFrame index.\n",
      "  after removing the cwd from sys.path.\n"
     ]
    },
    {
     "data": {
      "text/html": [
       "<div>\n",
       "<style scoped>\n",
       "    .dataframe tbody tr th:only-of-type {\n",
       "        vertical-align: middle;\n",
       "    }\n",
       "\n",
       "    .dataframe tbody tr th {\n",
       "        vertical-align: top;\n",
       "    }\n",
       "\n",
       "    .dataframe thead th {\n",
       "        text-align: right;\n",
       "    }\n",
       "</style>\n",
       "<table border=\"1\" class=\"dataframe\">\n",
       "  <thead>\n",
       "    <tr style=\"text-align: right;\">\n",
       "      <th></th>\n",
       "      <th>0</th>\n",
       "      <th>1</th>\n",
       "    </tr>\n",
       "  </thead>\n",
       "  <tbody>\n",
       "    <tr>\n",
       "      <th>&gt; 0</th>\n",
       "      <td>16.000000</td>\n",
       "      <td>26.000000</td>\n",
       "    </tr>\n",
       "    <tr>\n",
       "      <th>all</th>\n",
       "      <td>45.000000</td>\n",
       "      <td>278.000000</td>\n",
       "    </tr>\n",
       "    <tr>\n",
       "      <th>ratio</th>\n",
       "      <td>0.355556</td>\n",
       "      <td>0.093525</td>\n",
       "    </tr>\n",
       "  </tbody>\n",
       "</table>\n",
       "</div>"
      ],
      "text/plain": [
       "               0           1\n",
       "> 0    16.000000   26.000000\n",
       "all    45.000000  278.000000\n",
       "ratio   0.355556    0.093525"
      ]
     },
     "execution_count": 18,
     "metadata": {},
     "output_type": "execute_result"
    }
   ],
   "source": [
    "def per_status(status):\n",
    "    return extension[extension.Status == status]\n",
    "def failed_subj(status):\n",
    "    return len(per_status(status)[extension['Liczba brakujacych przedmiotow'] > 0])\n",
    "failed_sub_ratio = lambda status: failed_subj(status) / len(per_status(status))\n",
    "\n",
    "pd.DataFrame({\n",
    "    \"> 0\": [failed_subj(0), failed_subj(1)],\n",
    "    \"all\": [len(per_status(0)), len(per_status(1))],\n",
    "    \"ratio\": [failed_sub_ratio(0), failed_sub_ratio(1)]\n",
    "}).transpose()"
   ]
  },
  {
   "cell_type": "code",
   "execution_count": 19,
   "metadata": {},
   "outputs": [
    {
     "name": "stderr",
     "output_type": "stream",
     "text": [
      "/opt/conda/lib/python3.7/site-packages/ipykernel_launcher.py:2: UserWarning: Boolean Series key will be reindexed to match DataFrame index.\n",
      "  \n",
      "/opt/conda/lib/python3.7/site-packages/ipykernel_launcher.py:2: UserWarning: Boolean Series key will be reindexed to match DataFrame index.\n",
      "  \n",
      "/opt/conda/lib/python3.7/site-packages/ipykernel_launcher.py:2: UserWarning: Boolean Series key will be reindexed to match DataFrame index.\n",
      "  \n"
     ]
    },
    {
     "data": {
      "text/html": [
       "<div>\n",
       "<style scoped>\n",
       "    .dataframe tbody tr th:only-of-type {\n",
       "        vertical-align: middle;\n",
       "    }\n",
       "\n",
       "    .dataframe tbody tr th {\n",
       "        vertical-align: top;\n",
       "    }\n",
       "\n",
       "    .dataframe thead th {\n",
       "        text-align: right;\n",
       "    }\n",
       "</style>\n",
       "<table border=\"1\" class=\"dataframe\">\n",
       "  <thead>\n",
       "    <tr style=\"text-align: right;\">\n",
       "      <th></th>\n",
       "      <th>0</th>\n",
       "      <th>1</th>\n",
       "      <th>2</th>\n",
       "    </tr>\n",
       "  </thead>\n",
       "  <tbody>\n",
       "    <tr>\n",
       "      <th>0</th>\n",
       "      <td>0.077399</td>\n",
       "      <td>0.052632</td>\n",
       "      <td>0.009288</td>\n",
       "    </tr>\n",
       "  </tbody>\n",
       "</table>\n",
       "</div>"
      ],
      "text/plain": [
       "          0         1         2\n",
       "0  0.077399  0.052632  0.009288"
      ]
     },
     "execution_count": 19,
     "metadata": {},
     "output_type": "execute_result"
    }
   ],
   "source": [
    "def thesis_number_ratio(number):\n",
    "    rejected = len(per_status(0)[extension['Liczba prac dyplomowych'] == number])\n",
    "    return rejected / len(extension)\n",
    "pd.DataFrame([thesis_number_ratio(1), \n",
    "              thesis_number_ratio(2),\n",
    "              thesis_number_ratio(3),\n",
    "             ]).transpose()"
   ]
  },
  {
   "cell_type": "code",
   "execution_count": 20,
   "metadata": {},
   "outputs": [],
   "source": [
    "def drop_single_val_cols(df): \n",
    "    return df[[c for c in df.columns if len(df[c].unique()) > 1]]"
   ]
  },
  {
   "cell_type": "code",
   "execution_count": 21,
   "metadata": {},
   "outputs": [],
   "source": [
    "dropext = ['Brakujace przedmioty', 'Data złożenia', 'Data zamknięcia']\n",
    "e = extension.drop(dropext, 'columns').drop(extension[extension['Stopień zaawansowania pracy'].isnull()].index)\n",
    "e = drop_single_val_cols(e)"
   ]
  },
  {
   "cell_type": "code",
   "execution_count": 23,
   "metadata": {},
   "outputs": [],
   "source": [
    "relevant_cols = [\n",
    "    'Stopień zaawansowania pracy', \n",
    "    'Liczba brakujacych przedmiotow', \n",
    "    'Liczba prac dyplomowych',\n",
    "    'month'\n",
    "]\n",
    "x_train, x_test, y_train, y_test = train_test_split(\n",
    "    extension[relevant_cols], \n",
    "    extension['Status']\n",
    ")"
   ]
  },
  {
   "cell_type": "code",
   "execution_count": 24,
   "metadata": {},
   "outputs": [
    {
     "name": "stdout",
     "output_type": "stream",
     "text": [
      "              precision    recall  f1-score   support\n",
      "\n",
      "           0       1.00      0.09      0.17        11\n",
      "           1       0.88      1.00      0.93        70\n",
      "\n",
      "   micro avg       0.88      0.88      0.88        81\n",
      "   macro avg       0.94      0.55      0.55        81\n",
      "weighted avg       0.89      0.88      0.83        81\n",
      "\n"
     ]
    },
    {
     "name": "stderr",
     "output_type": "stream",
     "text": [
      "/opt/conda/lib/python3.7/site-packages/sklearn/svm/base.py:931: ConvergenceWarning: Liblinear failed to converge, increase the number of iterations.\n",
      "  \"the number of iterations.\", ConvergenceWarning)\n"
     ]
    }
   ],
   "source": [
    "\n",
    "clf = LinearSVC(random_state=0, tol=1e-5)\n",
    "clf.fit(x_train, y_train)\n",
    "y_pred = clf.predict(x_test)\n",
    "\n",
    "print(classification_report(y_test, y_pred))"
   ]
  },
  {
   "cell_type": "code",
   "execution_count": 25,
   "metadata": {},
   "outputs": [
    {
     "name": "stdout",
     "output_type": "stream",
     "text": [
      "              precision    recall  f1-score   support\n",
      "\n",
      "           0       0.50      0.09      0.15        11\n",
      "           1       0.87      0.99      0.93        70\n",
      "\n",
      "   micro avg       0.86      0.86      0.86        81\n",
      "   macro avg       0.69      0.54      0.54        81\n",
      "weighted avg       0.82      0.86      0.82        81\n",
      "\n"
     ]
    }
   ],
   "source": [
    "knn = KNeighborsClassifier()\n",
    "knn.fit(x_train, y_train)\n",
    "y_pred = knn.predict(x_test)\n",
    "\n",
    "print(classification_report(y_test, y_pred))"
   ]
  },
  {
   "cell_type": "code",
   "execution_count": null,
   "metadata": {},
   "outputs": [],
   "source": []
  }
 ],
 "metadata": {
  "kernelspec": {
   "display_name": "Python 3",
   "language": "python",
   "name": "python3"
  },
  "language_info": {
   "codemirror_mode": {
    "name": "ipython",
    "version": 3
   },
   "file_extension": ".py",
   "mimetype": "text/x-python",
   "name": "python",
   "nbconvert_exporter": "python",
   "pygments_lexer": "ipython3",
   "version": "3.7.1"
  }
 },
 "nbformat": 4,
 "nbformat_minor": 2
}
