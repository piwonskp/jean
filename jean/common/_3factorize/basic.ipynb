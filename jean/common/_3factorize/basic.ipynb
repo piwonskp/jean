{
 "cells": [
  {
   "cell_type": "code",
   "execution_count": 1,
   "metadata": {},
   "outputs": [
    {
     "name": "stderr",
     "output_type": "stream",
     "text": [
      "ipynb.fs.full.jean.common._2dual_status:13: SettingWithCopyWarning: \n",
      "A value is trying to be set on a copy of a slice from a DataFrame.\n",
      "Try using .loc[row_indexer,col_indexer] = value instead\n",
      "\n",
      "See the caveats in the documentation: http://pandas.pydata.org/pandas-docs/stable/indexing.html#indexing-view-versus-copy\n",
      "ipynb.fs.full.jean.common._2dual_status:15: SettingWithCopyWarning: \n",
      "A value is trying to be set on a copy of a slice from a DataFrame.\n",
      "Try using .loc[row_indexer,col_indexer] = value instead\n",
      "\n",
      "See the caveats in the documentation: http://pandas.pydata.org/pandas-docs/stable/indexing.html#indexing-view-versus-copy\n",
      "ipynb.fs.full.jean.common._2dual_status:16: SettingWithCopyWarning: \n",
      "A value is trying to be set on a copy of a slice from a DataFrame.\n",
      "Try using .loc[row_indexer,col_indexer] = value instead\n",
      "\n",
      "See the caveats in the documentation: http://pandas.pydata.org/pandas-docs/stable/indexing.html#indexing-view-versus-copy\n",
      "ipynb.fs.full.jean.common._2dual_status:17: SettingWithCopyWarning: \n",
      "A value is trying to be set on a copy of a slice from a DataFrame.\n",
      "Try using .loc[row_indexer,col_indexer] = value instead\n",
      "\n",
      "See the caveats in the documentation: http://pandas.pydata.org/pandas-docs/stable/indexing.html#indexing-view-versus-copy\n",
      "/opt/conda/lib/python3.7/site-packages/pandas/core/frame.py:3391: SettingWithCopyWarning: \n",
      "A value is trying to be set on a copy of a slice from a DataFrame.\n",
      "Try using .loc[row_indexer,col_indexer] = value instead\n",
      "\n",
      "See the caveats in the documentation: http://pandas.pydata.org/pandas-docs/stable/indexing.html#indexing-view-versus-copy\n",
      "  self[k1] = value[k2]\n",
      "ipynb.fs.full.jean.common._3factorize:37: SettingWithCopyWarning: \n",
      "A value is trying to be set on a copy of a slice from a DataFrame.\n",
      "Try using .loc[row_indexer,col_indexer] = value instead\n",
      "\n",
      "See the caveats in the documentation: http://pandas.pydata.org/pandas-docs/stable/indexing.html#indexing-view-versus-copy\n",
      "ipynb.fs.full.jean.common._3factorize:39: SettingWithCopyWarning: \n",
      "A value is trying to be set on a copy of a slice from a DataFrame.\n",
      "Try using .loc[row_indexer,col_indexer] = value instead\n",
      "\n",
      "See the caveats in the documentation: http://pandas.pydata.org/pandas-docs/stable/indexing.html#indexing-view-versus-copy\n"
     ]
    }
   ],
   "source": [
    "import matplotlib.pylab as plt\n",
    "import pandas as pd\n",
    "import seaborn as sns\n",
    "from ipynb.fs.full.jean.common._3factorize import appls"
   ]
  },
  {
   "cell_type": "code",
   "execution_count": 2,
   "metadata": {},
   "outputs": [
    {
     "data": {
      "text/html": [
       "<div>\n",
       "<style scoped>\n",
       "    .dataframe tbody tr th:only-of-type {\n",
       "        vertical-align: middle;\n",
       "    }\n",
       "\n",
       "    .dataframe tbody tr th {\n",
       "        vertical-align: top;\n",
       "    }\n",
       "\n",
       "    .dataframe thead th {\n",
       "        text-align: right;\n",
       "    }\n",
       "</style>\n",
       "<table border=\"1\" class=\"dataframe\">\n",
       "  <thead>\n",
       "    <tr style=\"text-align: right;\">\n",
       "      <th></th>\n",
       "      <th>Numer dokumentu</th>\n",
       "      <th>Data złożenia</th>\n",
       "      <th>Data zamknięcia</th>\n",
       "      <th>Student</th>\n",
       "      <th>Tryb studiów</th>\n",
       "      <th>Typ studiów</th>\n",
       "      <th>Język wykładowy</th>\n",
       "      <th>Kierunek</th>\n",
       "      <th>Status</th>\n",
       "      <th>Rodzaj wniosku</th>\n",
       "      <th>...</th>\n",
       "      <th>Informacje o pracach dyplomowych</th>\n",
       "      <th>Stopień zaawansowania pracy</th>\n",
       "      <th>Słowo rodzin lub famil w uzasadnieniu</th>\n",
       "      <th>Słowo zdrow lub health w uzasadnieniu</th>\n",
       "      <th>Słowo bardzo proszę w uzasadnieniu</th>\n",
       "      <th>Słowo losow w uzasadnieniu</th>\n",
       "      <th>Słowo prac lub work w uzasadnieniu</th>\n",
       "      <th>Słowo obiecuję lub promise w uzasadnieniu</th>\n",
       "      <th>Słowo zobowiązuję w uzasadnieniu</th>\n",
       "      <th>month</th>\n",
       "    </tr>\n",
       "  </thead>\n",
       "  <tbody>\n",
       "    <tr>\n",
       "      <th>0</th>\n",
       "      <td>565</td>\n",
       "      <td>2017-10-13 09:26:00</td>\n",
       "      <td>2017-10-14 08:56:00</td>\n",
       "      <td>2121.0</td>\n",
       "      <td>1493.0</td>\n",
       "      <td>1650.0</td>\n",
       "      <td>1878.0</td>\n",
       "      <td>1770.0</td>\n",
       "      <td>1</td>\n",
       "      <td>2118.0</td>\n",
       "      <td>...</td>\n",
       "      <td>NaN</td>\n",
       "      <td>NaN</td>\n",
       "      <td>0</td>\n",
       "      <td>0</td>\n",
       "      <td>0</td>\n",
       "      <td>0</td>\n",
       "      <td>1</td>\n",
       "      <td>0</td>\n",
       "      <td>0</td>\n",
       "      <td>10</td>\n",
       "    </tr>\n",
       "    <tr>\n",
       "      <th>1</th>\n",
       "      <td>111</td>\n",
       "      <td>2017-09-15 17:02:00</td>\n",
       "      <td>2017-09-19 16:05:00</td>\n",
       "      <td>2717.0</td>\n",
       "      <td>2175.0</td>\n",
       "      <td>1650.0</td>\n",
       "      <td>1878.0</td>\n",
       "      <td>1785.0</td>\n",
       "      <td>0</td>\n",
       "      <td>1888.0</td>\n",
       "      <td>...</td>\n",
       "      <td>NaN</td>\n",
       "      <td>NaN</td>\n",
       "      <td>1</td>\n",
       "      <td>1</td>\n",
       "      <td>0</td>\n",
       "      <td>0</td>\n",
       "      <td>0</td>\n",
       "      <td>0</td>\n",
       "      <td>0</td>\n",
       "      <td>9</td>\n",
       "    </tr>\n",
       "    <tr>\n",
       "      <th>2</th>\n",
       "      <td>294</td>\n",
       "      <td>2017-09-18 22:57:00</td>\n",
       "      <td>2017-09-19 16:27:00</td>\n",
       "      <td>1539.0</td>\n",
       "      <td>2175.0</td>\n",
       "      <td>1650.0</td>\n",
       "      <td>1878.0</td>\n",
       "      <td>1780.0</td>\n",
       "      <td>1</td>\n",
       "      <td>1888.0</td>\n",
       "      <td>...</td>\n",
       "      <td>NaN</td>\n",
       "      <td>NaN</td>\n",
       "      <td>0</td>\n",
       "      <td>0</td>\n",
       "      <td>0</td>\n",
       "      <td>0</td>\n",
       "      <td>0</td>\n",
       "      <td>0</td>\n",
       "      <td>0</td>\n",
       "      <td>9</td>\n",
       "    </tr>\n",
       "    <tr>\n",
       "      <th>3</th>\n",
       "      <td>13</td>\n",
       "      <td>2017-09-14 10:16:00</td>\n",
       "      <td>2017-09-15 13:38:00</td>\n",
       "      <td>2746.0</td>\n",
       "      <td>1493.0</td>\n",
       "      <td>1650.0</td>\n",
       "      <td>1878.0</td>\n",
       "      <td>1766.0</td>\n",
       "      <td>1</td>\n",
       "      <td>1888.0</td>\n",
       "      <td>...</td>\n",
       "      <td>NaN</td>\n",
       "      <td>NaN</td>\n",
       "      <td>0</td>\n",
       "      <td>0</td>\n",
       "      <td>0</td>\n",
       "      <td>0</td>\n",
       "      <td>1</td>\n",
       "      <td>0</td>\n",
       "      <td>0</td>\n",
       "      <td>9</td>\n",
       "    </tr>\n",
       "    <tr>\n",
       "      <th>4</th>\n",
       "      <td>301</td>\n",
       "      <td>2017-09-18 23:29:00</td>\n",
       "      <td>2017-09-19 16:29:00</td>\n",
       "      <td>1554.0</td>\n",
       "      <td>2175.0</td>\n",
       "      <td>1650.0</td>\n",
       "      <td>1878.0</td>\n",
       "      <td>1785.0</td>\n",
       "      <td>1</td>\n",
       "      <td>1888.0</td>\n",
       "      <td>...</td>\n",
       "      <td>NaN</td>\n",
       "      <td>NaN</td>\n",
       "      <td>0</td>\n",
       "      <td>0</td>\n",
       "      <td>0</td>\n",
       "      <td>0</td>\n",
       "      <td>0</td>\n",
       "      <td>0</td>\n",
       "      <td>0</td>\n",
       "      <td>9</td>\n",
       "    </tr>\n",
       "  </tbody>\n",
       "</table>\n",
       "<p>5 rows × 44 columns</p>\n",
       "</div>"
      ],
      "text/plain": [
       "   Numer dokumentu       Data złożenia     Data zamknięcia  Student  \\\n",
       "0              565 2017-10-13 09:26:00 2017-10-14 08:56:00   2121.0   \n",
       "1              111 2017-09-15 17:02:00 2017-09-19 16:05:00   2717.0   \n",
       "2              294 2017-09-18 22:57:00 2017-09-19 16:27:00   1539.0   \n",
       "3               13 2017-09-14 10:16:00 2017-09-15 13:38:00   2746.0   \n",
       "4              301 2017-09-18 23:29:00 2017-09-19 16:29:00   1554.0   \n",
       "\n",
       "   Tryb studiów  Typ studiów  Język wykładowy  Kierunek  Status  \\\n",
       "0        1493.0       1650.0           1878.0    1770.0       1   \n",
       "1        2175.0       1650.0           1878.0    1785.0       0   \n",
       "2        2175.0       1650.0           1878.0    1780.0       1   \n",
       "3        1493.0       1650.0           1878.0    1766.0       1   \n",
       "4        2175.0       1650.0           1878.0    1785.0       1   \n",
       "\n",
       "   Rodzaj wniosku  ...  Informacje o pracach dyplomowych  \\\n",
       "0          2118.0  ...                               NaN   \n",
       "1          1888.0  ...                               NaN   \n",
       "2          1888.0  ...                               NaN   \n",
       "3          1888.0  ...                               NaN   \n",
       "4          1888.0  ...                               NaN   \n",
       "\n",
       "   Stopień zaawansowania pracy  Słowo rodzin lub famil w uzasadnieniu  \\\n",
       "0                          NaN                                      0   \n",
       "1                          NaN                                      1   \n",
       "2                          NaN                                      0   \n",
       "3                          NaN                                      0   \n",
       "4                          NaN                                      0   \n",
       "\n",
       "   Słowo zdrow lub health w uzasadnieniu  Słowo bardzo proszę w uzasadnieniu  \\\n",
       "0                                      0                                   0   \n",
       "1                                      1                                   0   \n",
       "2                                      0                                   0   \n",
       "3                                      0                                   0   \n",
       "4                                      0                                   0   \n",
       "\n",
       "   Słowo losow w uzasadnieniu  Słowo prac lub work w uzasadnieniu  \\\n",
       "0                           0                                   1   \n",
       "1                           0                                   0   \n",
       "2                           0                                   0   \n",
       "3                           0                                   1   \n",
       "4                           0                                   0   \n",
       "\n",
       "   Słowo obiecuję lub promise w uzasadnieniu  \\\n",
       "0                                          0   \n",
       "1                                          0   \n",
       "2                                          0   \n",
       "3                                          0   \n",
       "4                                          0   \n",
       "\n",
       "   Słowo zobowiązuję w uzasadnieniu  month  \n",
       "0                                 0     10  \n",
       "1                                 0      9  \n",
       "2                                 0      9  \n",
       "3                                 0      9  \n",
       "4                                 0      9  \n",
       "\n",
       "[5 rows x 44 columns]"
      ]
     },
     "execution_count": 2,
     "metadata": {},
     "output_type": "execute_result"
    }
   ],
   "source": [
    "appls.head()"
   ]
  },
  {
   "cell_type": "code",
   "execution_count": 3,
   "metadata": {},
   "outputs": [
    {
     "data": {
      "text/plain": [
       "<matplotlib.axes._subplots.AxesSubplot at 0x7f54def17ac8>"
      ]
     },
     "execution_count": 3,
     "metadata": {},
     "output_type": "execute_result"
    },
    {
     "data": {
      "image/png": "[encoded data removed]",
      "text/plain": [
       "<Figure size 432x288 with 1 Axes>"
      ]
     },
     "metadata": {
      "needs_background": "light"
     },
     "output_type": "display_data"
    }
   ],
   "source": [
    "MIN_PROCESSED = 10\n",
    "filter_outliers = lambda g: g['Status'].count() > MIN_PROCESSED\n",
    "group = lambda df: df.groupby('Osoba przyjmująca')\n",
    "filter_out = lambda df: group(df).filter(filter_outliers)\n",
    "relevant = filter_out(appls)\n",
    "\n",
    "sns.countplot(relevant['Osoba przyjmująca'])"
   ]
  },
  {
   "cell_type": "code",
   "execution_count": 4,
   "metadata": {},
   "outputs": [
    {
     "data": {
      "image/png": "[encoded data removed]",
      "text/plain": [
       "<Figure size 432x288 with 1 Axes>"
      ]
     },
     "metadata": {
      "needs_background": "light"
     },
     "output_type": "display_data"
    }
   ],
   "source": [
    "count_per_person = lambda df: group(df)['Status'].count() \n",
    "accepted_ratio = count_per_person(relevant[relevant['Status'] == 1]) / count_per_person(relevant)\n",
    "\n",
    "plot = sns.barplot(x=accepted_ratio.index, y=accepted_ratio)"
   ]
  },
  {
   "cell_type": "code",
   "execution_count": 5,
   "metadata": {},
   "outputs": [
    {
     "data": {
      "text/plain": [
       "<matplotlib.axes._subplots.AxesSubplot at 0x7f54dacf4128>"
      ]
     },
     "execution_count": 5,
     "metadata": {},
     "output_type": "execute_result"
    },
    {
     "data": {
      "image/png": "[encoded data removed]",
      "text/plain": [
       "<Figure size 432x288 with 1 Axes>"
      ]
     },
     "metadata": {
      "needs_background": "light"
     },
     "output_type": "display_data"
    }
   ],
   "source": [
    "sns.countplot(x='Osoba przyjmująca', hue='Rodzaj wniosku', data=relevant)"
   ]
  },
  {
   "cell_type": "code",
   "execution_count": null,
   "metadata": {},
   "outputs": [],
   "source": []
  }
 ],
 "metadata": {
  "kernelspec": {
   "display_name": "Python 3",
   "language": "python",
   "name": "python3"
  },
  "language_info": {
   "codemirror_mode": {
    "name": "ipython",
    "version": 3
   },
   "file_extension": ".py",
   "mimetype": "text/x-python",
   "name": "python",
   "nbconvert_exporter": "python",
   "pygments_lexer": "ipython3",
   "version": "3.7.1"
  }
 },
 "nbformat": 4,
 "nbformat_minor": 2
}
