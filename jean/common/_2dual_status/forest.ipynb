{
 "cells": [
  {
   "cell_type": "code",
   "execution_count": 1,
   "metadata": {},
   "outputs": [
    {
     "name": "stderr",
     "output_type": "stream",
     "text": [
      "ipynb.fs.full.jean.common._2dual_status:13: SettingWithCopyWarning: \n",
      "A value is trying to be set on a copy of a slice from a DataFrame.\n",
      "Try using .loc[row_indexer,col_indexer] = value instead\n",
      "\n",
      "See the caveats in the documentation: http://pandas.pydata.org/pandas-docs/stable/indexing.html#indexing-view-versus-copy\n",
      "ipynb.fs.full.jean.common._2dual_status:15: SettingWithCopyWarning: \n",
      "A value is trying to be set on a copy of a slice from a DataFrame.\n",
      "Try using .loc[row_indexer,col_indexer] = value instead\n",
      "\n",
      "See the caveats in the documentation: http://pandas.pydata.org/pandas-docs/stable/indexing.html#indexing-view-versus-copy\n",
      "ipynb.fs.full.jean.common._2dual_status:16: SettingWithCopyWarning: \n",
      "A value is trying to be set on a copy of a slice from a DataFrame.\n",
      "Try using .loc[row_indexer,col_indexer] = value instead\n",
      "\n",
      "See the caveats in the documentation: http://pandas.pydata.org/pandas-docs/stable/indexing.html#indexing-view-versus-copy\n",
      "ipynb.fs.full.jean.common._2dual_status:17: SettingWithCopyWarning: \n",
      "A value is trying to be set on a copy of a slice from a DataFrame.\n",
      "Try using .loc[row_indexer,col_indexer] = value instead\n",
      "\n",
      "See the caveats in the documentation: http://pandas.pydata.org/pandas-docs/stable/indexing.html#indexing-view-versus-copy\n"
     ]
    }
   ],
   "source": [
    "import pandas as pd\n",
    "\n",
    "from ipynb.fs.full.jean.common import foreach_type, print_type\n",
    "from ipynb.fs.full.jean.common._2dual_status import appls"
   ]
  },
  {
   "cell_type": "code",
   "execution_count": 2,
   "metadata": {},
   "outputs": [
    {
     "name": "stdout",
     "output_type": "stream",
     "text": [
      "=================Wniosek ogólny=================\n",
      "Liczba zmian statusu    0.266990\n",
      "Numer dokumentu         0.144699\n",
      "Suma zdobytych ECTS     0.080265\n",
      "month                   0.070742\n",
      "Brakujace ECTS          0.067357\n",
      "dtype: float64\n",
      "=================Podanie o rejestrację=================\n",
      "Liczba zmian statusu                 0.179826\n",
      "Numer dokumentu                      0.166067\n",
      "Suma zdobytych ECTS                  0.106624\n",
      "ECTS uznane w bieżącym semstrze      0.100738\n",
      "Opłata za niezaliczone przedmioty    0.075034\n",
      "dtype: float64\n",
      "=================Wniosek o rozłożenie opłaty za studia na raty=================\n",
      "Liczba załączników      0.191701\n",
      "Numer dokumentu         0.156449\n",
      "Liczba zmian statusu    0.106830\n",
      "Brakujace ECTS          0.094810\n",
      "Suma zdobytych ECTS     0.085425\n",
      "dtype: float64\n",
      "=================Wniosek o zmniejszenie opłaty za powtarzanie=================\n",
      "Brakujace ECTS                       0.134776\n",
      "Suma zdobytych ECTS                  0.132792\n",
      "Numer dokumentu                      0.132234\n",
      "Liczba zmian statusu                 0.098908\n",
      "Opłata za niezaliczone przedmioty    0.075060\n",
      "dtype: float64\n",
      "=================Wniosek o przedłużenie terminu złożenia pracy dyplomowej=================\n",
      "Liczba zmian statusu               0.262175\n",
      "Numer dokumentu                    0.154409\n",
      "ECTS uznane w bieżącym semstrze    0.125120\n",
      "month                              0.088277\n",
      "Suma zdobytych ECTS                0.084545\n",
      "dtype: float64\n",
      "=================Potwierdzenie opłaty=================\n",
      "Numer dokumentu         0.0\n",
      "Liczba załączników      0.0\n",
      "Liczba zmian statusu    0.0\n",
      "Semestr studiow         0.0\n",
      "Brakujace ECTS          0.0\n",
      "dtype: float64\n",
      "=================Podanie o urlop=================\n",
      "Numer dokumentu                      0.219875\n",
      "Opłata za niezaliczone przedmioty    0.100926\n",
      "Brakujace ECTS                       0.092880\n",
      "month                                0.084495\n",
      "Liczba brakujacych przedmiotow       0.075854\n",
      "dtype: float64\n"
     ]
    }
   ],
   "source": [
    "from sklearn.ensemble import RandomForestClassifier\n",
    "from sklearn.model_selection import train_test_split\n",
    "\n",
    "def plot_forest(df, type_):\n",
    "    num = df.drop('Status', 'columns').select_dtypes(exclude=['object', 'datetime64[ns]'])\n",
    "    x_train, x_test, y_train, y_test = train_test_split(num, df['Status'])\n",
    "    rf_clf = RandomForestClassifier(n_estimators = 500, max_depth=12)\n",
    "    rf_clf.fit(x_train, y_train)\n",
    "    rf_y_pred = rf_clf.predict(x_test)\n",
    "    print_type(type_)\n",
    "    \n",
    "    print(pd.Series(rf_clf.feature_importances_, index=x_train.columns).nlargest(5))\n",
    "#     pd.Series(rf_clf.feature_importances_, index=x_train.columns).nlargest(12).plot(\n",
    "#         kind='barh',\n",
    "#         figsize=(10, 10),\n",
    "#         title=type_\n",
    "#     ).invert_yaxis();\n",
    "#     plt.show()\n",
    "\n",
    "_ = list(foreach_type(appls, plot_forest))"
   ]
  }
 ],
 "metadata": {
  "kernelspec": {
   "display_name": "Python 3",
   "language": "python",
   "name": "python3"
  },
  "language_info": {
   "codemirror_mode": {
    "name": "ipython",
    "version": 3
   },
   "file_extension": ".py",
   "mimetype": "text/x-python",
   "name": "python",
   "nbconvert_exporter": "python",
   "pygments_lexer": "ipython3",
   "version": "3.7.1"
  }
 },
 "nbformat": 4,
 "nbformat_minor": 2
}
